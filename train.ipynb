{
 "cells": [
  {
   "cell_type": "code",
   "execution_count": 1,
   "id": "initial_id",
   "metadata": {
    "collapsed": true,
    "ExecuteTime": {
     "end_time": "2025-02-05T01:30:32.696027Z",
     "start_time": "2025-02-05T01:30:29.744770Z"
    }
   },
   "outputs": [],
   "source": [
    "import comet_ml\n",
    "import pytorch_lightning as pl\n",
    "from pytorch_lightning.loggers import CometLogger\n",
    "from pytorch_lightning.callbacks import EarlyStopping, ModelCheckpoint\n",
    "from torchinfo import summary\n",
    "from comet_ml.integration.pytorch import log_model"
   ]
  },
  {
   "cell_type": "code",
   "outputs": [
    {
     "data": {
      "text/plain": "Resolving data files:   0%|          | 0/19 [00:00<?, ?it/s]",
      "application/vnd.jupyter.widget-view+json": {
       "version_major": 2,
       "version_minor": 0,
       "model_id": "5e7da995ddca4516aa84a1254bcdcb76"
      }
     },
     "metadata": {},
     "output_type": "display_data"
    },
    {
     "data": {
      "text/plain": "Resolving data files:   0%|          | 0/19 [00:00<?, ?it/s]",
      "application/vnd.jupyter.widget-view+json": {
       "version_major": 2,
       "version_minor": 0,
       "model_id": "13d4646472054621a790d376624dd346"
      }
     },
     "metadata": {},
     "output_type": "display_data"
    },
    {
     "data": {
      "text/plain": "Loading dataset shards:   0%|          | 0/19 [00:00<?, ?it/s]",
      "application/vnd.jupyter.widget-view+json": {
       "version_major": 2,
       "version_minor": 0,
       "model_id": "419f53dc212744b9974375152065efef"
      }
     },
     "metadata": {},
     "output_type": "display_data"
    }
   ],
   "source": [
    "from skibidi_face_detector.dataset.small_celebrities import test_loader as small_test_loader, train_loader as small_train_loader\n",
    "from skibidi_face_detector.dataset.celeba import val_num_classes, val_train_loader, val_test_loader, augment, transformer, BATCH_SIZE\n",
    "from skibidi_face_detector.face_embedder.Model import Model"
   ],
   "metadata": {
    "collapsed": false,
    "ExecuteTime": {
     "end_time": "2025-02-05T01:30:47.205080Z",
     "start_time": "2025-02-05T01:30:32.697139Z"
    }
   },
   "id": "677b03e6531c551f",
   "execution_count": 2
  },
  {
   "cell_type": "code",
   "outputs": [],
   "source": [
    "PROJECT_NAME = 'dlf-train'\n",
    "EXPERIMENT_NAME = 'extraordinary_bedi'"
   ],
   "metadata": {
    "collapsed": false,
    "ExecuteTime": {
     "end_time": "2025-02-05T01:30:47.207413Z",
     "start_time": "2025-02-05T01:30:47.205794Z"
    }
   },
   "id": "9a7397035c219793",
   "execution_count": 3
  },
  {
   "cell_type": "code",
   "outputs": [],
   "source": [
    "model = Model(\n",
    "    val_num_classes,\n",
    "    arc_face_margin=0.2,\n",
    "    embedding_dim=128,\n",
    "    freeze_feature_extractor=True,\n",
    "    hidden_layer_features=2048,\n",
    "    learning_rate=0.0005,\n",
    "    p_dropout_1=0.2,\n",
    "    p_dropout_2=0.2,\n",
    "    scale=30,\n",
    "    triplet_margin=0.2,\n",
    "    augments=augment,\n",
    "    transformer=transformer,\n",
    "    arc_face_loss_multiplier=0.0,\n",
    "    triplet_loss_multiplier=1.0,\n",
    "    accuracy_loaders=(small_train_loader, small_test_loader)\n",
    ")"
   ],
   "metadata": {
    "collapsed": false,
    "ExecuteTime": {
     "end_time": "2025-02-05T01:30:47.634584Z",
     "start_time": "2025-02-05T01:30:47.208594Z"
    }
   },
   "id": "dcd40ce5a8162c50",
   "execution_count": 4
  },
  {
   "cell_type": "code",
   "outputs": [
    {
     "name": "stderr",
     "output_type": "stream",
     "text": [
      "CometLogger will be initialized in online mode\n"
     ]
    }
   ],
   "source": [
    "comet_logger = CometLogger(\n",
    "    save_dir=\"./\",\n",
    "    project_name=f\"{PROJECT_NAME}\",\n",
    "    experiment_name=f\"{EXPERIMENT_NAME}\",\n",
    ")"
   ],
   "metadata": {
    "collapsed": false,
    "ExecuteTime": {
     "end_time": "2025-02-05T01:30:47.639295Z",
     "start_time": "2025-02-05T01:30:47.635245Z"
    }
   },
   "id": "7875c0c9f7df7fdc",
   "execution_count": 5
  },
  {
   "cell_type": "code",
   "outputs": [
    {
     "name": "stderr",
     "output_type": "stream",
     "text": [
      "\u001B[1;38;5;214mCOMET WARNING:\u001B[0m As you are running in a Jupyter environment, you will need to call `experiment.end()` when finished to ensure all metrics and code are logged before exiting.\n",
      "\u001B[1;38;5;39mCOMET INFO:\u001B[0m Experiment is live on comet.com https://www.comet.com/superrmurlocc/dlf-train/0e05261cfcbb476aae340120200021a9\n",
      "\n"
     ]
    }
   ],
   "source": [
    "comet_logger.experiment.set_model_graph(\n",
    "        f\"{model.__repr__()}\\n\"\n",
    "        f\"{summary(model, input_size=(BATCH_SIZE, 3, 224, 224), depth=9)}\",\n",
    "        overwrite=True,\n",
    "    )"
   ],
   "metadata": {
    "collapsed": false,
    "ExecuteTime": {
     "end_time": "2025-02-05T01:30:52.254115Z",
     "start_time": "2025-02-05T01:30:47.640260Z"
    }
   },
   "id": "942aa4f9b9754e0d",
   "execution_count": 6
  },
  {
   "cell_type": "code",
   "outputs": [
    {
     "data": {
      "text/plain": "[('skibidi_face_detector/face_embedder/VggFace2.py',\n  {'web': 'https://www.comet.com/api/asset/download?assetId=10648893d2a342bd8d471c85c5bc169a&experimentKey=0e05261cfcbb476aae340120200021a9',\n   'api': 'https://www.comet.com/api/rest/v2/experiment/asset/get-asset?assetId=10648893d2a342bd8d471c85c5bc169a&experimentKey=0e05261cfcbb476aae340120200021a9',\n   'assetId': '10648893d2a342bd8d471c85c5bc169a'})]"
     },
     "execution_count": 7,
     "metadata": {},
     "output_type": "execute_result"
    }
   ],
   "source": [
    "comet_logger.experiment.log_code('skibidi_face_detector/face_embedder/ArcFaceLoss.py')\n",
    "comet_logger.experiment.log_code('skibidi_face_detector/face_embedder/TripletLoss.py')\n",
    "comet_logger.experiment.log_code('skibidi_face_detector/face_embedder/Embedder.py')\n",
    "comet_logger.experiment.log_code('skibidi_face_detector/face_embedder/Model.py')\n",
    "comet_logger.experiment.log_code('skibidi_face_detector/face_embedder/VggFace2.py')"
   ],
   "metadata": {
    "collapsed": false,
    "ExecuteTime": {
     "end_time": "2025-02-05T01:30:52.259665Z",
     "start_time": "2025-02-05T01:30:52.254861Z"
    }
   },
   "id": "9f02e2ba4b06ae8d",
   "execution_count": 7
  },
  {
   "cell_type": "code",
   "outputs": [],
   "source": [
    "checkpoint_callback = ModelCheckpoint(\n",
    "    monitor='val_accuracy',\n",
    "    dirpath=f'checkpoints/{EXPERIMENT_NAME}/',\n",
    "    filename='best-{epoch:02d}-{val_accuracy:.2f}',\n",
    "    save_top_k=1,\n",
    "    mode='min'\n",
    ")\n",
    "\n",
    "latest_checkpoint_callback = ModelCheckpoint(\n",
    "    dirpath=f'checkpoints/{EXPERIMENT_NAME}/',\n",
    "    filename='latest-{epoch:02d}',\n",
    "    save_top_k=1,\n",
    "    every_n_epochs=1\n",
    ")\n",
    "\n",
    "early_stopping_callback = EarlyStopping(\n",
    "    monitor='val_accuracy',\n",
    "    patience=50,\n",
    "    mode='min'\n",
    ")"
   ],
   "metadata": {
    "collapsed": false,
    "ExecuteTime": {
     "end_time": "2025-02-05T01:30:52.263821Z",
     "start_time": "2025-02-05T01:30:52.260476Z"
    }
   },
   "id": "53e53e7c571204c",
   "execution_count": 8
  },
  {
   "cell_type": "code",
   "outputs": [
    {
     "name": "stderr",
     "output_type": "stream",
     "text": [
      "GPU available: True (mps), used: True\n",
      "TPU available: False, using: 0 TPU cores\n",
      "HPU available: False, using: 0 HPUs\n"
     ]
    }
   ],
   "source": [
    "trainer = pl.Trainer(\n",
    "    max_epochs=10,\n",
    "    callbacks=[checkpoint_callback, early_stopping_callback, latest_checkpoint_callback],\n",
    "    logger=comet_logger\n",
    ")"
   ],
   "metadata": {
    "collapsed": false,
    "ExecuteTime": {
     "end_time": "2025-02-05T01:30:52.300254Z",
     "start_time": "2025-02-05T01:30:52.264726Z"
    }
   },
   "id": "de6db1af2847b5d3",
   "execution_count": 9
  },
  {
   "cell_type": "code",
   "outputs": [
    {
     "name": "stderr",
     "output_type": "stream",
     "text": [
      "/Users/jakubbednarski/Desktop/Studia/sem2/dlf/venv/lib/python3.11/site-packages/torch/optim/lr_scheduler.py:62: UserWarning: The verbose parameter is deprecated. Please use get_last_lr() to access the learning rate.\n",
      "  warnings.warn(\n",
      "\n",
      "  | Name          | Type        | Params | Mode \n",
      "------------------------------------------------------\n",
      "0 | embedder      | Embedder    | 30.0 M | train\n",
      "1 | arc_face_loss | ArcFaceLoss | 2.5 M  | train\n",
      "2 | triplet_loss  | TripletLoss | 0      | train\n",
      "3 | augments      | Compose     | 0      | train\n",
      "4 | transformer   | Compose     | 0      | train\n",
      "------------------------------------------------------\n",
      "7.0 M     Trainable params\n",
      "25.6 M    Non-trainable params\n",
      "32.6 M    Total params\n",
      "130.235   Total estimated model params size (MB)\n",
      "164       Modules in train mode\n",
      "0         Modules in eval mode\n",
      "\u001B[1;38;5;214mCOMET WARNING:\u001B[0m Set model graph ignored; already called. Call with overwrite=True to replace graph definition\n"
     ]
    },
    {
     "data": {
      "text/plain": "Sanity Checking: |          | 0/? [00:00<?, ?it/s]",
      "application/vnd.jupyter.widget-view+json": {
       "version_major": 2,
       "version_minor": 0,
       "model_id": "83015297b4e347509a0c5ac9fd452028"
      }
     },
     "metadata": {},
     "output_type": "display_data"
    },
    {
     "data": {
      "text/plain": "Training: |          | 0/? [00:00<?, ?it/s]",
      "application/vnd.jupyter.widget-view+json": {
       "version_major": 2,
       "version_minor": 0,
       "model_id": "0dd78945f1c548688ef285660fa6131a"
      }
     },
     "metadata": {},
     "output_type": "display_data"
    },
    {
     "name": "stderr",
     "output_type": "stream",
     "text": [
      "/Users/jakubbednarski/Desktop/Studia/sem2/dlf/venv/lib/python3.11/site-packages/pytorch_lightning/loops/optimization/automatic.py:132: `training_step` returned `None`. If this was on purpose, ignore this warning...\n"
     ]
    },
    {
     "data": {
      "text/plain": "Validation: |          | 0/? [00:00<?, ?it/s]",
      "application/vnd.jupyter.widget-view+json": {
       "version_major": 2,
       "version_minor": 0,
       "model_id": "cc0282933890442ab04d82b8933bc70f"
      }
     },
     "metadata": {},
     "output_type": "display_data"
    },
    {
     "data": {
      "text/plain": "Validation: |          | 0/? [00:00<?, ?it/s]",
      "application/vnd.jupyter.widget-view+json": {
       "version_major": 2,
       "version_minor": 0,
       "model_id": "f3b3c95244144810a09527e4d4fd8966"
      }
     },
     "metadata": {},
     "output_type": "display_data"
    },
    {
     "data": {
      "text/plain": "Validation: |          | 0/? [00:00<?, ?it/s]",
      "application/vnd.jupyter.widget-view+json": {
       "version_major": 2,
       "version_minor": 0,
       "model_id": "4cc0e32b8b3c4b358e337e4ab65d5ce3"
      }
     },
     "metadata": {},
     "output_type": "display_data"
    },
    {
     "data": {
      "text/plain": "Validation: |          | 0/? [00:00<?, ?it/s]",
      "application/vnd.jupyter.widget-view+json": {
       "version_major": 2,
       "version_minor": 0,
       "model_id": "2ea522bcdfc54070b3a3ff3012d6a832"
      }
     },
     "metadata": {},
     "output_type": "display_data"
    },
    {
     "data": {
      "text/plain": "Validation: |          | 0/? [00:00<?, ?it/s]",
      "application/vnd.jupyter.widget-view+json": {
       "version_major": 2,
       "version_minor": 0,
       "model_id": "c5cc28e401e9438abfe34c30d0e9c1f0"
      }
     },
     "metadata": {},
     "output_type": "display_data"
    },
    {
     "data": {
      "text/plain": "Validation: |          | 0/? [00:00<?, ?it/s]",
      "application/vnd.jupyter.widget-view+json": {
       "version_major": 2,
       "version_minor": 0,
       "model_id": "5f873b251b794694bc05b5ec75d4c16a"
      }
     },
     "metadata": {},
     "output_type": "display_data"
    },
    {
     "data": {
      "text/plain": "Validation: |          | 0/? [00:00<?, ?it/s]",
      "application/vnd.jupyter.widget-view+json": {
       "version_major": 2,
       "version_minor": 0,
       "model_id": "b8a41b79d3f649e3af28be3b6353be4f"
      }
     },
     "metadata": {},
     "output_type": "display_data"
    },
    {
     "data": {
      "text/plain": "Validation: |          | 0/? [00:00<?, ?it/s]",
      "application/vnd.jupyter.widget-view+json": {
       "version_major": 2,
       "version_minor": 0,
       "model_id": "85b5a21e404f4d14889038c282601d34"
      }
     },
     "metadata": {},
     "output_type": "display_data"
    },
    {
     "data": {
      "text/plain": "Validation: |          | 0/? [00:00<?, ?it/s]",
      "application/vnd.jupyter.widget-view+json": {
       "version_major": 2,
       "version_minor": 0,
       "model_id": "35be3747a13c4f3598a82ce4a7c90410"
      }
     },
     "metadata": {},
     "output_type": "display_data"
    },
    {
     "data": {
      "text/plain": "Validation: |          | 0/? [00:00<?, ?it/s]",
      "application/vnd.jupyter.widget-view+json": {
       "version_major": 2,
       "version_minor": 0,
       "model_id": "4a50b151cfe84340882c78407a5cca3b"
      }
     },
     "metadata": {},
     "output_type": "display_data"
    },
    {
     "name": "stderr",
     "output_type": "stream",
     "text": [
      "`Trainer.fit` stopped: `max_epochs=10` reached.\n",
      "\u001B[1;38;5;214mCOMET WARNING:\u001B[0m Failed to log system metrics: [sys.ram,sys.cpu,sys.load]\n",
      "\u001B[1;38;5;214mCOMET WARNING:\u001B[0m Failed to log system metrics: [sys.ram,sys.cpu,sys.load]\n",
      "\u001B[1;38;5;214mCOMET WARNING:\u001B[0m Failed to log system metrics: [sys.ram,sys.cpu,sys.load]\n",
      "\u001B[1;38;5;214mCOMET WARNING:\u001B[0m Failed to log system metrics: [sys.ram,sys.cpu,sys.load]\n",
      "\u001B[1;38;5;39mCOMET INFO:\u001B[0m ---------------------------------------------------------------------------------------\n",
      "\u001B[1;38;5;39mCOMET INFO:\u001B[0m Comet.ml Experiment Summary\n",
      "\u001B[1;38;5;39mCOMET INFO:\u001B[0m ---------------------------------------------------------------------------------------\n",
      "\u001B[1;38;5;39mCOMET INFO:\u001B[0m   Data:\n",
      "\u001B[1;38;5;39mCOMET INFO:\u001B[0m     display_summary_level : 1\n",
      "\u001B[1;38;5;39mCOMET INFO:\u001B[0m     name                  : extraordinary_bedi\n",
      "\u001B[1;38;5;39mCOMET INFO:\u001B[0m     url                   : https://www.comet.com/superrmurlocc/dlf-train/0e05261cfcbb476aae340120200021a9\n",
      "\u001B[1;38;5;39mCOMET INFO:\u001B[0m   Metrics [count] (min, max):\n",
      "\u001B[1;38;5;39mCOMET INFO:\u001B[0m     loss [268]                     : (0.0, 18.5624942779541)\n",
      "\u001B[1;38;5;39mCOMET INFO:\u001B[0m     train_arc_face_loss_epoch [10] : (19.177770614624023, 19.494035720825195)\n",
      "\u001B[1;38;5;39mCOMET INFO:\u001B[0m     train_arc_face_loss_step [99]  : (17.901487350463867, 20.323688507080078)\n",
      "\u001B[1;38;5;39mCOMET INFO:\u001B[0m     train_loss_epoch [10]          : (0.5096713304519653, 2.366097927093506)\n",
      "\u001B[1;38;5;39mCOMET INFO:\u001B[0m     train_loss_step [99]           : (0.0, 20.3905086517334)\n",
      "\u001B[1;38;5;39mCOMET INFO:\u001B[0m     train_triplet_loss_epoch [10]  : (0.5096713304519653, 2.366097927093506)\n",
      "\u001B[1;38;5;39mCOMET INFO:\u001B[0m     train_triplet_loss_step [99]   : (0.0, 20.3905086517334)\n",
      "\u001B[1;38;5;39mCOMET INFO:\u001B[0m     val_accuracy [10]              : (0.6228955984115601, 0.7272727489471436)\n",
      "\u001B[1;38;5;39mCOMET INFO:\u001B[0m     val_arc_face_loss [10]         : (19.1549129486084, 19.551239013671875)\n",
      "\u001B[1;38;5;39mCOMET INFO:\u001B[0m     val_loss [10]                  : (0.7553222179412842, 2.5078682899475098)\n",
      "\u001B[1;38;5;39mCOMET INFO:\u001B[0m     val_triplet_loss [10]          : (0.7553222179412842, 2.5078682899475098)\n",
      "\u001B[1;38;5;39mCOMET INFO:\u001B[0m   Others:\n",
      "\u001B[1;38;5;39mCOMET INFO:\u001B[0m     Name : extraordinary_bedi\n",
      "\u001B[1;38;5;39mCOMET INFO:\u001B[0m   Parameters:\n",
      "\u001B[1;38;5;39mCOMET INFO:\u001B[0m     algorithm                : auto\n",
      "\u001B[1;38;5;39mCOMET INFO:\u001B[0m     arc_face_loss_multiplier : 0.0\n",
      "\u001B[1;38;5;39mCOMET INFO:\u001B[0m     arc_face_margin          : 0.2\n",
      "\u001B[1;38;5;39mCOMET INFO:\u001B[0m     embedding_dim            : 128\n",
      "\u001B[1;38;5;39mCOMET INFO:\u001B[0m     freeze_feature_extractor : True\n",
      "\u001B[1;38;5;39mCOMET INFO:\u001B[0m     hidden_layer_features    : 2048\n",
      "\u001B[1;38;5;39mCOMET INFO:\u001B[0m     leaf_size                : 30\n",
      "\u001B[1;38;5;39mCOMET INFO:\u001B[0m     learning_rate            : 0.0005\n",
      "\u001B[1;38;5;39mCOMET INFO:\u001B[0m     metric                   : minkowski\n",
      "\u001B[1;38;5;39mCOMET INFO:\u001B[0m     metric_params            : None\n",
      "\u001B[1;38;5;39mCOMET INFO:\u001B[0m     n_jobs                   : None\n",
      "\u001B[1;38;5;39mCOMET INFO:\u001B[0m     n_neighbors              : 1\n",
      "\u001B[1;38;5;39mCOMET INFO:\u001B[0m     num_classes              : 19867\n",
      "\u001B[1;38;5;39mCOMET INFO:\u001B[0m     p                        : 2\n",
      "\u001B[1;38;5;39mCOMET INFO:\u001B[0m     p_dropout_1              : 0.2\n",
      "\u001B[1;38;5;39mCOMET INFO:\u001B[0m     p_dropout_2              : 0.2\n",
      "\u001B[1;38;5;39mCOMET INFO:\u001B[0m     scale                    : 30\n",
      "\u001B[1;38;5;39mCOMET INFO:\u001B[0m     triplet_loss_multiplier  : 1.0\n",
      "\u001B[1;38;5;39mCOMET INFO:\u001B[0m     triplet_margin           : 0.2\n",
      "\u001B[1;38;5;39mCOMET INFO:\u001B[0m     weights                  : uniform\n",
      "\u001B[1;38;5;39mCOMET INFO:\u001B[0m   Uploads:\n",
      "\u001B[1;38;5;39mCOMET INFO:\u001B[0m     environment details      : 1\n",
      "\u001B[1;38;5;39mCOMET INFO:\u001B[0m     filename                 : 1\n",
      "\u001B[1;38;5;39mCOMET INFO:\u001B[0m     git metadata             : 1\n",
      "\u001B[1;38;5;39mCOMET INFO:\u001B[0m     git-patch (uncompressed) : 1 (105.96 KB)\n",
      "\u001B[1;38;5;39mCOMET INFO:\u001B[0m     installed packages       : 1\n",
      "\u001B[1;38;5;39mCOMET INFO:\u001B[0m     model graph              : 1\n",
      "\u001B[1;38;5;39mCOMET INFO:\u001B[0m     notebook                 : 1\n",
      "\u001B[1;38;5;39mCOMET INFO:\u001B[0m     source_code              : 6 (15.62 KB)\n",
      "\u001B[1;38;5;39mCOMET INFO:\u001B[0m \n",
      "\u001B[1;38;5;39mCOMET INFO:\u001B[0m Please wait for metadata to finish uploading (timeout is 3600 seconds)\n",
      "\u001B[1;38;5;39mCOMET INFO:\u001B[0m Uploading 54 metrics, params and output messages\n"
     ]
    }
   ],
   "source": [
    "trainer.fit(model, val_train_loader, val_test_loader)"
   ],
   "metadata": {
    "collapsed": false,
    "ExecuteTime": {
     "end_time": "2025-02-05T03:49:00.511091Z",
     "start_time": "2025-02-05T01:30:52.302806Z"
    }
   },
   "id": "991b02ef3661a153",
   "execution_count": 10
  },
  {
   "cell_type": "code",
   "outputs": [
    {
     "name": "stderr",
     "output_type": "stream",
     "text": [
      "\u001B[1;38;5;214mCOMET WARNING:\u001B[0m As you are running in a Jupyter environment, you will need to call `experiment.end()` when finished to ensure all metrics and code are logged before exiting.\n",
      "\u001B[1;38;5;39mCOMET INFO:\u001B[0m Experiment is live on comet.com https://www.comet.com/superrmurlocc/dlf-train/0e05261cfcbb476aae340120200021a9\n",
      "\n"
     ]
    }
   ],
   "source": [
    "model_name = f\"{type(model).__name__}_{comet_logger.experiment.get_key()}\"\n",
    "log_model(comet_logger.experiment, model, model_name=model_name)"
   ],
   "metadata": {
    "collapsed": false,
    "ExecuteTime": {
     "end_time": "2025-02-05T03:49:02.472070Z",
     "start_time": "2025-02-05T03:49:00.514528Z"
    }
   },
   "id": "a74f2dcffb5f65b9",
   "execution_count": 11
  },
  {
   "cell_type": "code",
   "outputs": [
    {
     "name": "stderr",
     "output_type": "stream",
     "text": [
      "\u001B[1;38;5;39mCOMET INFO:\u001B[0m ---------------------------------------------------------------------------------------\n",
      "\u001B[1;38;5;39mCOMET INFO:\u001B[0m Comet.ml ExistingExperiment Summary\n",
      "\u001B[1;38;5;39mCOMET INFO:\u001B[0m ---------------------------------------------------------------------------------------\n",
      "\u001B[1;38;5;39mCOMET INFO:\u001B[0m   Data:\n",
      "\u001B[1;38;5;39mCOMET INFO:\u001B[0m     display_summary_level : 1\n",
      "\u001B[1;38;5;39mCOMET INFO:\u001B[0m     name                  : extraordinary_bedi\n",
      "\u001B[1;38;5;39mCOMET INFO:\u001B[0m     url                   : https://www.comet.com/superrmurlocc/dlf-train/0e05261cfcbb476aae340120200021a9\n",
      "\u001B[1;38;5;39mCOMET INFO:\u001B[0m   Others:\n",
      "\u001B[1;38;5;39mCOMET INFO:\u001B[0m     Created from : pytorch-lightning\n",
      "\u001B[1;38;5;39mCOMET INFO:\u001B[0m     Name         : extraordinary_bedi\n",
      "\u001B[1;38;5;39mCOMET INFO:\u001B[0m   Uploads:\n",
      "\u001B[1;38;5;39mCOMET INFO:\u001B[0m     model-element : 2 (124.51 MB)\n",
      "\u001B[1;38;5;39mCOMET INFO:\u001B[0m \n",
      "\u001B[1;38;5;39mCOMET INFO:\u001B[0m Please wait for assets to finish uploading (timeout is 10800 seconds)\n",
      "\u001B[1;38;5;39mCOMET INFO:\u001B[0m Still uploading 1 file(s), remaining 124.51 MB/124.51 MB\n",
      "\u001B[1;38;5;39mCOMET INFO:\u001B[0m Still uploading 1 asset(s), remaining 24.51 MB/124.51 MB, Throughput 6.63 MB/s, ETA ~4s\n"
     ]
    }
   ],
   "source": [
    "comet_logger.experiment.end()"
   ],
   "metadata": {
    "collapsed": false,
    "ExecuteTime": {
     "end_time": "2025-02-05T03:49:21.413299Z",
     "start_time": "2025-02-05T03:49:02.472853Z"
    }
   },
   "id": "391aba87e7c34032",
   "execution_count": 12
  }
 ],
 "metadata": {
  "kernelspec": {
   "display_name": "Python 3",
   "language": "python",
   "name": "python3"
  },
  "language_info": {
   "codemirror_mode": {
    "name": "ipython",
    "version": 2
   },
   "file_extension": ".py",
   "mimetype": "text/x-python",
   "name": "python",
   "nbconvert_exporter": "python",
   "pygments_lexer": "ipython2",
   "version": "2.7.6"
  }
 },
 "nbformat": 4,
 "nbformat_minor": 5
}
